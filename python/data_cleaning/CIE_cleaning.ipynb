{
 "cells": [
  {
   "cell_type": "code",
   "execution_count": 1,
   "metadata": {
    "collapsed": true
   },
   "outputs": [],
   "source": [
    "import os.path as path # used for easily finding the csvs in other directories\n",
    "import pandas as pd, numpy as np, matplotlib.pyplot as plt, seaborn as sns\n",
    "from datetime import datetime"
   ]
  },
  {
   "cell_type": "code",
   "execution_count": 2,
   "outputs": [],
   "source": [
    "# loading csv from local directory function\n",
    "def load_csv_within_directory(directory_string):\n",
    "    \"\"\"\n",
    "    Takes in a string of where your csv is located in the repo folder and turns\n",
    "    into a dataframe using pandas read_csv\n",
    "\n",
    "    example directory string: '/data/raw_data/CIE/client_needs_table.csv'\n",
    "    :param directory_string: string containing file with directory desired\n",
    "    :return: a dataframe\n",
    "    \"\"\"\n",
    "\n",
    "    temp_path = path.abspath(path.join(\"data\" ,\"../../..\")) # finds the parent directory\n",
    "\n",
    "    temp_directory_end = temp_path + directory_string # concatenates with directory for csvs\n",
    "    temp_df = pd.read_csv(temp_directory_end) # creates df with csv\n",
    "    return temp_df"
   ],
   "metadata": {
    "collapsed": false,
    "pycharm": {
     "name": "#%%\n"
    }
   }
  },
  {
   "cell_type": "code",
   "execution_count": 12,
   "outputs": [
    {
     "data": {
      "text/plain": "            AccountID Account_Created_Date Record_Type CIE_Consent      Zip  \\\n0  0012M000021P37VQAS  2018-11-18 00:00:00      Client  No Consent  92040.0   \n1  0012M000021P9NyQAK  2018-11-18 00:00:00      Client  No Consent  92064.0   \n2  0012M000021Pa72QAC  2018-11-19 00:00:00      Client     Consent  92071.0   \n3  0012M000021Pa8AQAS  2018-11-19 00:00:00      Client     Consent  92110.0   \n4  0012M000021PalPQAS  2018-11-19 00:00:00      Client     Consent  91910.0   \n\n   Neighborhood    HHSA_Region     County Housing_Needs Utilities_Needs  ...  \\\n0      LAKESIDE           East  San Diego            No             Yes  ...   \n1         POWAY   North Inland  San Diego           Yes             Yes  ...   \n2        SANTEE           East  San Diego            No             Yes  ...   \n3  SD, OLD TOWN  North Central  San Diego            No              No  ...   \n4   CHULA VISTA          South  San Diego            No             Yes  ...   \n\n      TANF Rental_Assistance     Military__Veteran      Employment  \\\n0  Missing           Missing  Not Military/Veteran       Full-Time   \n1       No                No  Not Military/Veteran  Unable to work   \n2  Missing           Missing  Not Military/Veteran       Full-Time   \n3  Missing           Missing  Not Military/Veteran         Missing   \n4  Missing           Missing  Not Military/Veteran       Full-Time   \n\n                Education Health_Insurance Health_Insurance_Type  Health_Plan  \\\n0  Some College No Degree              Yes              Medi-Cal       Molina   \n1        Associate Degree              Yes              Medi-Cal        Other   \n2      High School Degree              Yes     Employer Provided      Missing   \n3                 Missing               No          No Insurance      Missing   \n4       Bachelor's Degree              Yes     Employer Provided      Missing   \n\n  Homeless          Housing_Type  \n0  Missing               Missing  \n1      Yes           Unsheltered  \n2  Missing               Missing  \n3      Yes  Homeless Unspecified  \n4  Missing               Missing  \n\n[5 rows x 45 columns]",
      "text/html": "<div>\n<style scoped>\n    .dataframe tbody tr th:only-of-type {\n        vertical-align: middle;\n    }\n\n    .dataframe tbody tr th {\n        vertical-align: top;\n    }\n\n    .dataframe thead th {\n        text-align: right;\n    }\n</style>\n<table border=\"1\" class=\"dataframe\">\n  <thead>\n    <tr style=\"text-align: right;\">\n      <th></th>\n      <th>AccountID</th>\n      <th>Account_Created_Date</th>\n      <th>Record_Type</th>\n      <th>CIE_Consent</th>\n      <th>Zip</th>\n      <th>Neighborhood</th>\n      <th>HHSA_Region</th>\n      <th>County</th>\n      <th>Housing_Needs</th>\n      <th>Utilities_Needs</th>\n      <th>...</th>\n      <th>TANF</th>\n      <th>Rental_Assistance</th>\n      <th>Military__Veteran</th>\n      <th>Employment</th>\n      <th>Education</th>\n      <th>Health_Insurance</th>\n      <th>Health_Insurance_Type</th>\n      <th>Health_Plan</th>\n      <th>Homeless</th>\n      <th>Housing_Type</th>\n    </tr>\n  </thead>\n  <tbody>\n    <tr>\n      <th>0</th>\n      <td>0012M000021P37VQAS</td>\n      <td>2018-11-18 00:00:00</td>\n      <td>Client</td>\n      <td>No Consent</td>\n      <td>92040.0</td>\n      <td>LAKESIDE</td>\n      <td>East</td>\n      <td>San Diego</td>\n      <td>No</td>\n      <td>Yes</td>\n      <td>...</td>\n      <td>Missing</td>\n      <td>Missing</td>\n      <td>Not Military/Veteran</td>\n      <td>Full-Time</td>\n      <td>Some College No Degree</td>\n      <td>Yes</td>\n      <td>Medi-Cal</td>\n      <td>Molina</td>\n      <td>Missing</td>\n      <td>Missing</td>\n    </tr>\n    <tr>\n      <th>1</th>\n      <td>0012M000021P9NyQAK</td>\n      <td>2018-11-18 00:00:00</td>\n      <td>Client</td>\n      <td>No Consent</td>\n      <td>92064.0</td>\n      <td>POWAY</td>\n      <td>North Inland</td>\n      <td>San Diego</td>\n      <td>Yes</td>\n      <td>Yes</td>\n      <td>...</td>\n      <td>No</td>\n      <td>No</td>\n      <td>Not Military/Veteran</td>\n      <td>Unable to work</td>\n      <td>Associate Degree</td>\n      <td>Yes</td>\n      <td>Medi-Cal</td>\n      <td>Other</td>\n      <td>Yes</td>\n      <td>Unsheltered</td>\n    </tr>\n    <tr>\n      <th>2</th>\n      <td>0012M000021Pa72QAC</td>\n      <td>2018-11-19 00:00:00</td>\n      <td>Client</td>\n      <td>Consent</td>\n      <td>92071.0</td>\n      <td>SANTEE</td>\n      <td>East</td>\n      <td>San Diego</td>\n      <td>No</td>\n      <td>Yes</td>\n      <td>...</td>\n      <td>Missing</td>\n      <td>Missing</td>\n      <td>Not Military/Veteran</td>\n      <td>Full-Time</td>\n      <td>High School Degree</td>\n      <td>Yes</td>\n      <td>Employer Provided</td>\n      <td>Missing</td>\n      <td>Missing</td>\n      <td>Missing</td>\n    </tr>\n    <tr>\n      <th>3</th>\n      <td>0012M000021Pa8AQAS</td>\n      <td>2018-11-19 00:00:00</td>\n      <td>Client</td>\n      <td>Consent</td>\n      <td>92110.0</td>\n      <td>SD, OLD TOWN</td>\n      <td>North Central</td>\n      <td>San Diego</td>\n      <td>No</td>\n      <td>No</td>\n      <td>...</td>\n      <td>Missing</td>\n      <td>Missing</td>\n      <td>Not Military/Veteran</td>\n      <td>Missing</td>\n      <td>Missing</td>\n      <td>No</td>\n      <td>No Insurance</td>\n      <td>Missing</td>\n      <td>Yes</td>\n      <td>Homeless Unspecified</td>\n    </tr>\n    <tr>\n      <th>4</th>\n      <td>0012M000021PalPQAS</td>\n      <td>2018-11-19 00:00:00</td>\n      <td>Client</td>\n      <td>Consent</td>\n      <td>91910.0</td>\n      <td>CHULA VISTA</td>\n      <td>South</td>\n      <td>San Diego</td>\n      <td>No</td>\n      <td>Yes</td>\n      <td>...</td>\n      <td>Missing</td>\n      <td>Missing</td>\n      <td>Not Military/Veteran</td>\n      <td>Full-Time</td>\n      <td>Bachelor's Degree</td>\n      <td>Yes</td>\n      <td>Employer Provided</td>\n      <td>Missing</td>\n      <td>Missing</td>\n      <td>Missing</td>\n    </tr>\n  </tbody>\n</table>\n<p>5 rows × 45 columns</p>\n</div>"
     },
     "execution_count": 12,
     "metadata": {},
     "output_type": "execute_result"
    }
   ],
   "source": [
    "# loading demographics for some basic wrangling\n",
    "demographics = load_csv_within_directory(\"/data/raw_data/CIE/client_demographics_table.csv\")\n",
    "\n",
    "#quickly renaming columns\n",
    "old_column_names = list(demographics.columns.values)\n",
    "\n",
    "#doing quick list comprehension-based string replacing (blanks to _)\n",
    "new_column_names = [name.replace(\" \", \"_\") for name in old_column_names]\n",
    "new_column_names = [name.replace(\"/\", \"__\") for name in new_column_names]\n",
    "\n",
    "#converting into quick dictionary for replacing old column names with new column names\n",
    "rename_dict = {i:j for i,j in zip(old_column_names,new_column_names)}\n",
    "demographics = demographics.rename(columns = rename_dict)\n",
    "\n",
    "#converting columns to numeric\n",
    "for column in demographics.columns:\n",
    "    try:\n",
    "        column = column.to_numeric()\n",
    "    except:\n",
    "        continue\n",
    "\n",
    "i = 0 #index counter\n",
    "for date in demographics.Account_Created_Date: #for each date within the report\n",
    "\n",
    "    #convert the date to datetime #11/18/18 #remember uppercase is full 4 digits, lowercase is short 2 digit\n",
    "    datetime_object = datetime.strptime(date, '%m/%d/%y')\n",
    "\n",
    "    #replacing based on index\n",
    "    demographics.at[i, 'Account_Created_Date'] = datetime_object\n",
    "    i+=1\n",
    "demographics.head()\n",
    "\n",
    "# wrangling done. NaNs are left in for replication purposes,\n",
    "# Now proceeding to cleaning/prepping data for modeling"
   ],
   "metadata": {
    "collapsed": false,
    "pycharm": {
     "name": "#%%\n"
    }
   }
  },
  {
   "cell_type": "code",
   "execution_count": 14,
   "outputs": [
    {
     "data": {
      "text/plain": "                                                  org  Sum_tenants_1  \\\n0                                                ACCE            NaN   \n1                                       Casa Familiar           84.0   \n2                                  Chicano Federation           65.0   \n3                                   Logan Heights CDC            NaN   \n4         Refugee Coalition - Haitian Bridge Alliance            NaN   \n5                  Refugee Coalition - Horn of Africa            NaN   \n6   Refugee Coalition - Karen organization of San ...            NaN   \n7   Refugee Coalition - Somali Bantu Community of ...            NaN   \n8   Refugee Coalition - South Sudanese Community o...            NaN   \n9   Refugee Coalition - Union of Pan Asian Communi...            NaN   \n10  Refugee Coalition - United Women of East Afric...            NaN   \n11                                              SDRCC            NaN   \n\n    Sum_tenants_2  Sum_tenants_3  Sum_tenants_4  Sum_tenants_5  Sum_tenants_6  \\\n0             NaN         1868.0         1255.0         1052.0        15924.0   \n1           261.0           80.0          279.0          628.0          634.0   \n2           311.0          217.0          106.0           95.0           64.0   \n3           125.0            NaN            NaN            NaN            NaN   \n4             NaN            NaN            NaN            NaN           50.0   \n5             NaN           77.0            NaN         1732.0         2513.0   \n6             NaN            NaN            NaN           30.0          155.0   \n7             NaN            NaN            NaN           25.0           59.0   \n8             NaN            NaN            NaN            NaN            NaN   \n9             NaN            NaN          751.0            NaN           50.0   \n10            NaN          126.0          332.0          369.0          337.0   \n11          227.0          160.0         1924.0            NaN          430.0   \n\n    Sum_tenants_7  Sum_tenants_8  Sum_tenants_9  Sum_tenants_10  \\\n0           834.0         4048.0         2650.0           764.0   \n1          1177.0         1034.0          504.0           536.0   \n2            78.0           77.0           66.0           137.0   \n3             NaN            NaN            NaN             NaN   \n4             NaN            NaN            NaN             NaN   \n5          2316.0         2042.0         1457.0          1470.0   \n6           100.0           90.0          100.0           124.0   \n7             NaN           85.0            NaN             NaN   \n8             NaN            NaN            NaN            93.0   \n9           556.0            NaN            NaN             NaN   \n10            NaN          446.0            NaN             NaN   \n11            NaN            NaN            NaN             NaN   \n\n    Sum_tenants_11  Sum_tenants_12  \n0           3123.0             NaN  \n1            329.0           207.0  \n2            356.0           315.0  \n3              NaN             NaN  \n4              NaN             NaN  \n5           1168.0          2033.0  \n6              NaN             NaN  \n7              NaN             NaN  \n8              NaN             NaN  \n9              NaN             NaN  \n10           912.0             NaN  \n11             NaN             NaN  ",
      "text/html": "<div>\n<style scoped>\n    .dataframe tbody tr th:only-of-type {\n        vertical-align: middle;\n    }\n\n    .dataframe tbody tr th {\n        vertical-align: top;\n    }\n\n    .dataframe thead th {\n        text-align: right;\n    }\n</style>\n<table border=\"1\" class=\"dataframe\">\n  <thead>\n    <tr style=\"text-align: right;\">\n      <th></th>\n      <th>org</th>\n      <th>Sum_tenants_1</th>\n      <th>Sum_tenants_2</th>\n      <th>Sum_tenants_3</th>\n      <th>Sum_tenants_4</th>\n      <th>Sum_tenants_5</th>\n      <th>Sum_tenants_6</th>\n      <th>Sum_tenants_7</th>\n      <th>Sum_tenants_8</th>\n      <th>Sum_tenants_9</th>\n      <th>Sum_tenants_10</th>\n      <th>Sum_tenants_11</th>\n      <th>Sum_tenants_12</th>\n    </tr>\n  </thead>\n  <tbody>\n    <tr>\n      <th>0</th>\n      <td>ACCE</td>\n      <td>NaN</td>\n      <td>NaN</td>\n      <td>1868.0</td>\n      <td>1255.0</td>\n      <td>1052.0</td>\n      <td>15924.0</td>\n      <td>834.0</td>\n      <td>4048.0</td>\n      <td>2650.0</td>\n      <td>764.0</td>\n      <td>3123.0</td>\n      <td>NaN</td>\n    </tr>\n    <tr>\n      <th>1</th>\n      <td>Casa Familiar</td>\n      <td>84.0</td>\n      <td>261.0</td>\n      <td>80.0</td>\n      <td>279.0</td>\n      <td>628.0</td>\n      <td>634.0</td>\n      <td>1177.0</td>\n      <td>1034.0</td>\n      <td>504.0</td>\n      <td>536.0</td>\n      <td>329.0</td>\n      <td>207.0</td>\n    </tr>\n    <tr>\n      <th>2</th>\n      <td>Chicano Federation</td>\n      <td>65.0</td>\n      <td>311.0</td>\n      <td>217.0</td>\n      <td>106.0</td>\n      <td>95.0</td>\n      <td>64.0</td>\n      <td>78.0</td>\n      <td>77.0</td>\n      <td>66.0</td>\n      <td>137.0</td>\n      <td>356.0</td>\n      <td>315.0</td>\n    </tr>\n    <tr>\n      <th>3</th>\n      <td>Logan Heights CDC</td>\n      <td>NaN</td>\n      <td>125.0</td>\n      <td>NaN</td>\n      <td>NaN</td>\n      <td>NaN</td>\n      <td>NaN</td>\n      <td>NaN</td>\n      <td>NaN</td>\n      <td>NaN</td>\n      <td>NaN</td>\n      <td>NaN</td>\n      <td>NaN</td>\n    </tr>\n    <tr>\n      <th>4</th>\n      <td>Refugee Coalition - Haitian Bridge Alliance</td>\n      <td>NaN</td>\n      <td>NaN</td>\n      <td>NaN</td>\n      <td>NaN</td>\n      <td>NaN</td>\n      <td>50.0</td>\n      <td>NaN</td>\n      <td>NaN</td>\n      <td>NaN</td>\n      <td>NaN</td>\n      <td>NaN</td>\n      <td>NaN</td>\n    </tr>\n    <tr>\n      <th>5</th>\n      <td>Refugee Coalition - Horn of Africa</td>\n      <td>NaN</td>\n      <td>NaN</td>\n      <td>77.0</td>\n      <td>NaN</td>\n      <td>1732.0</td>\n      <td>2513.0</td>\n      <td>2316.0</td>\n      <td>2042.0</td>\n      <td>1457.0</td>\n      <td>1470.0</td>\n      <td>1168.0</td>\n      <td>2033.0</td>\n    </tr>\n    <tr>\n      <th>6</th>\n      <td>Refugee Coalition - Karen organization of San ...</td>\n      <td>NaN</td>\n      <td>NaN</td>\n      <td>NaN</td>\n      <td>NaN</td>\n      <td>30.0</td>\n      <td>155.0</td>\n      <td>100.0</td>\n      <td>90.0</td>\n      <td>100.0</td>\n      <td>124.0</td>\n      <td>NaN</td>\n      <td>NaN</td>\n    </tr>\n    <tr>\n      <th>7</th>\n      <td>Refugee Coalition - Somali Bantu Community of ...</td>\n      <td>NaN</td>\n      <td>NaN</td>\n      <td>NaN</td>\n      <td>NaN</td>\n      <td>25.0</td>\n      <td>59.0</td>\n      <td>NaN</td>\n      <td>85.0</td>\n      <td>NaN</td>\n      <td>NaN</td>\n      <td>NaN</td>\n      <td>NaN</td>\n    </tr>\n    <tr>\n      <th>8</th>\n      <td>Refugee Coalition - South Sudanese Community o...</td>\n      <td>NaN</td>\n      <td>NaN</td>\n      <td>NaN</td>\n      <td>NaN</td>\n      <td>NaN</td>\n      <td>NaN</td>\n      <td>NaN</td>\n      <td>NaN</td>\n      <td>NaN</td>\n      <td>93.0</td>\n      <td>NaN</td>\n      <td>NaN</td>\n    </tr>\n    <tr>\n      <th>9</th>\n      <td>Refugee Coalition - Union of Pan Asian Communi...</td>\n      <td>NaN</td>\n      <td>NaN</td>\n      <td>NaN</td>\n      <td>751.0</td>\n      <td>NaN</td>\n      <td>50.0</td>\n      <td>556.0</td>\n      <td>NaN</td>\n      <td>NaN</td>\n      <td>NaN</td>\n      <td>NaN</td>\n      <td>NaN</td>\n    </tr>\n    <tr>\n      <th>10</th>\n      <td>Refugee Coalition - United Women of East Afric...</td>\n      <td>NaN</td>\n      <td>NaN</td>\n      <td>126.0</td>\n      <td>332.0</td>\n      <td>369.0</td>\n      <td>337.0</td>\n      <td>NaN</td>\n      <td>446.0</td>\n      <td>NaN</td>\n      <td>NaN</td>\n      <td>912.0</td>\n      <td>NaN</td>\n    </tr>\n    <tr>\n      <th>11</th>\n      <td>SDRCC</td>\n      <td>NaN</td>\n      <td>227.0</td>\n      <td>160.0</td>\n      <td>1924.0</td>\n      <td>NaN</td>\n      <td>430.0</td>\n      <td>NaN</td>\n      <td>NaN</td>\n      <td>NaN</td>\n      <td>NaN</td>\n      <td>NaN</td>\n      <td>NaN</td>\n    </tr>\n  </tbody>\n</table>\n</div>"
     },
     "execution_count": 14,
     "metadata": {},
     "output_type": "execute_result"
    }
   ],
   "source": [
    "monthly_tenants = load_csv_within_directory(\"/data/raw_data/monthly_tenants_reached/monthly_tenants_reached.csv\")\n",
    "# will most likely need to normalize if logit is desired"
   ],
   "metadata": {
    "collapsed": false,
    "pycharm": {
     "name": "#%%\n"
    }
   }
  },
  {
   "cell_type": "markdown",
   "source": [
    "Possible Questions:\n",
    "- How can we see whether legal representation can determine evictions?\n",
    "- Are the workshops working? How well?\n",
    "\n",
    "Models Desired Pertaining to Research Questions!\n",
    "- (Legal) Combining Attendance of Workshops by Month to Dataframe with Monthly 311 Counts?\n",
    "- Possible Time-Series Logistic Regression With Grouped Demographics/Location? (Change Over Time)\n",
    "- Supervised Classification Of Housing_Need using High Dimensional Variables (Demographics)?\n",
    "-\n",
    "\n",
    "Random Thoughts\n",
    "- Could we control for population and income by using Monthly Tenants Reached?\n",
    "    - Possibly the income for the area for each workshop?\n",
    "    - Do we have more Monthly Count Data (more years)? Otherwise, we may need to justify spreading aggregate\n",
    "        - Or, scale based on GPS data from Google/Apple Maps? Or Other count-based data\n",
    "\n",
    "Data Wrangling Tasks Found\n",
    "1. Expand SDSC Court Cases (Unmasked)/Wrangle More Data\n",
    "2. Acquire Sheriff Evictions\n",
    "3. Workshop data needed (registrants, post-survey/overview)\n",
    "\n",
    "Data Cleaning Tasks Found\n",
    "1. Dummy/One-Hot All Categoricals\n",
    "2. NaN check, if categorical, drop the row. If it's numerical, take the average or median\n",
    "3. Normalize Tenant Counts (Log Transform)\n",
    "4. Determine IVs to model with\n",
    "\n",
    "---"
   ],
   "metadata": {
    "collapsed": false,
    "pycharm": {
     "name": "#%% md\n"
    }
   }
  },
  {
   "cell_type": "markdown",
   "source": [
    "Data reporting\n",
    "Be super precise about the data reflects\n",
    "\n",
    "-Court data\n",
    "    - eviction filings\n",
    "        - can get some additional information\n",
    "- Sheriff data\n",
    "    - landlord files efiction report\n",
    "        - court rules in favor\n",
    "            - Judge sets a lockout date\n",
    "                - Landlord has to pay a fee\n",
    "                -\n",
    "\n",
    "-Try finding\n",
    "\n",
    "-Look at Census Tracts for Eviction Data\n",
    "    -Useful for GIS\n",
    "\n",
    "\n",
    "-Workshop Registration\n",
    "    -Person Interfaced with a website/etc\n",
    "       -They received some amount of info about eviction prevention\n",
    "        -Not everyone is at risk of eviction\n",
    "      - Would need to control for time\n",
    "\n",
    "Do we see any difference between zip codes where people who are registered for eviction prevention and those who were not?\n"
   ],
   "metadata": {
    "collapsed": false,
    "pycharm": {
     "name": "#%% md\n"
    }
   }
  },
  {
   "cell_type": "code",
   "execution_count": 6,
   "outputs": [],
   "source": [
    "court_data_CL_Masked = load_csv_within_directory(\"/data/raw_data/public_records_request_19Jan2023/CL_masked.csv\")"
   ],
   "metadata": {
    "collapsed": false,
    "pycharm": {
     "name": "#%%\n"
    }
   }
  },
  {
   "cell_type": "code",
   "execution_count": 7,
   "outputs": [
    {
     "data": {
      "text/plain": "                      CASE NUMBER        CITY    ZIP  MONTH  YEAR  \\\n0      37-2018-00000071-CL-UD-CTL   San Diego  92139      1  2018   \n1      37-2018-00000103-CL-UD-CTL   San Diego  92110      1  2018   \n2      37-2018-00000117-CL-UD-CTL       Vista  92084      1  2018   \n3      37-2018-00000125-CL-UD-CTL   SAN DIEGO  92117      1  2018   \n4      37-2018-00000137-CL-UD-CTL    Lakeside  92040      1  2018   \n...                           ...         ...    ...    ...   ...   \n23119  37-2022-00052500-CL-UD-CTL   San Diego  92101     12  2022   \n23120  37-2022-00052501-CL-UD-CTL   San Diego  92101     12  2022   \n23121  37-2022-00052502-CL-UD-CTL  San Marcos  92069     12  2022   \n23122  37-2022-00052503-CL-UD-CTL   Oceanside  92054     12  2022   \n23123  37-2022-00052504-CL-UD-CTL      Alpine  91901     12  2022   \n\n                      DISPO TYPE ANSWER MONEY JUDGMENT  DEFAULT  \n0        Court-ordered dismissal      Y              N        N  \n1        Court-ordered dismissal      Y              N        N  \n2          Request for Dismissal      N              N        Y  \n3        Court-ordered dismissal      N              N        Y  \n4      Default judgment by clerk      N              N        Y  \n...                          ...    ...            ...      ...  \n23119                        NaN      Y              N     N, N  \n23120                        NaN      N              N     N, N  \n23121                        NaN      N              N     N, N  \n23122                        NaN      Y              N     N, N  \n23123                        NaN      N              N  N, N, N  \n\n[23124 rows x 9 columns]",
      "text/html": "<div>\n<style scoped>\n    .dataframe tbody tr th:only-of-type {\n        vertical-align: middle;\n    }\n\n    .dataframe tbody tr th {\n        vertical-align: top;\n    }\n\n    .dataframe thead th {\n        text-align: right;\n    }\n</style>\n<table border=\"1\" class=\"dataframe\">\n  <thead>\n    <tr style=\"text-align: right;\">\n      <th></th>\n      <th>CASE NUMBER</th>\n      <th>CITY</th>\n      <th>ZIP</th>\n      <th>MONTH</th>\n      <th>YEAR</th>\n      <th>DISPO TYPE</th>\n      <th>ANSWER</th>\n      <th>MONEY JUDGMENT</th>\n      <th>DEFAULT</th>\n    </tr>\n  </thead>\n  <tbody>\n    <tr>\n      <th>0</th>\n      <td>37-2018-00000071-CL-UD-CTL</td>\n      <td>San Diego</td>\n      <td>92139</td>\n      <td>1</td>\n      <td>2018</td>\n      <td>Court-ordered dismissal</td>\n      <td>Y</td>\n      <td>N</td>\n      <td>N</td>\n    </tr>\n    <tr>\n      <th>1</th>\n      <td>37-2018-00000103-CL-UD-CTL</td>\n      <td>San Diego</td>\n      <td>92110</td>\n      <td>1</td>\n      <td>2018</td>\n      <td>Court-ordered dismissal</td>\n      <td>Y</td>\n      <td>N</td>\n      <td>N</td>\n    </tr>\n    <tr>\n      <th>2</th>\n      <td>37-2018-00000117-CL-UD-CTL</td>\n      <td>Vista</td>\n      <td>92084</td>\n      <td>1</td>\n      <td>2018</td>\n      <td>Request for Dismissal</td>\n      <td>N</td>\n      <td>N</td>\n      <td>Y</td>\n    </tr>\n    <tr>\n      <th>3</th>\n      <td>37-2018-00000125-CL-UD-CTL</td>\n      <td>SAN DIEGO</td>\n      <td>92117</td>\n      <td>1</td>\n      <td>2018</td>\n      <td>Court-ordered dismissal</td>\n      <td>N</td>\n      <td>N</td>\n      <td>Y</td>\n    </tr>\n    <tr>\n      <th>4</th>\n      <td>37-2018-00000137-CL-UD-CTL</td>\n      <td>Lakeside</td>\n      <td>92040</td>\n      <td>1</td>\n      <td>2018</td>\n      <td>Default judgment by clerk</td>\n      <td>N</td>\n      <td>N</td>\n      <td>Y</td>\n    </tr>\n    <tr>\n      <th>...</th>\n      <td>...</td>\n      <td>...</td>\n      <td>...</td>\n      <td>...</td>\n      <td>...</td>\n      <td>...</td>\n      <td>...</td>\n      <td>...</td>\n      <td>...</td>\n    </tr>\n    <tr>\n      <th>23119</th>\n      <td>37-2022-00052500-CL-UD-CTL</td>\n      <td>San Diego</td>\n      <td>92101</td>\n      <td>12</td>\n      <td>2022</td>\n      <td>NaN</td>\n      <td>Y</td>\n      <td>N</td>\n      <td>N, N</td>\n    </tr>\n    <tr>\n      <th>23120</th>\n      <td>37-2022-00052501-CL-UD-CTL</td>\n      <td>San Diego</td>\n      <td>92101</td>\n      <td>12</td>\n      <td>2022</td>\n      <td>NaN</td>\n      <td>N</td>\n      <td>N</td>\n      <td>N, N</td>\n    </tr>\n    <tr>\n      <th>23121</th>\n      <td>37-2022-00052502-CL-UD-CTL</td>\n      <td>San Marcos</td>\n      <td>92069</td>\n      <td>12</td>\n      <td>2022</td>\n      <td>NaN</td>\n      <td>N</td>\n      <td>N</td>\n      <td>N, N</td>\n    </tr>\n    <tr>\n      <th>23122</th>\n      <td>37-2022-00052503-CL-UD-CTL</td>\n      <td>Oceanside</td>\n      <td>92054</td>\n      <td>12</td>\n      <td>2022</td>\n      <td>NaN</td>\n      <td>Y</td>\n      <td>N</td>\n      <td>N, N</td>\n    </tr>\n    <tr>\n      <th>23123</th>\n      <td>37-2022-00052504-CL-UD-CTL</td>\n      <td>Alpine</td>\n      <td>91901</td>\n      <td>12</td>\n      <td>2022</td>\n      <td>NaN</td>\n      <td>N</td>\n      <td>N</td>\n      <td>N, N, N</td>\n    </tr>\n  </tbody>\n</table>\n<p>23124 rows × 9 columns</p>\n</div>"
     },
     "execution_count": 7,
     "metadata": {},
     "output_type": "execute_result"
    }
   ],
   "source": [
    "court_data_CL_Masked"
   ],
   "metadata": {
    "collapsed": false,
    "pycharm": {
     "name": "#%%\n"
    }
   }
  }
 ],
 "metadata": {
  "kernelspec": {
   "display_name": "Python 3",
   "language": "python",
   "name": "python3"
  },
  "language_info": {
   "codemirror_mode": {
    "name": "ipython",
    "version": 2
   },
   "file_extension": ".py",
   "mimetype": "text/x-python",
   "name": "python",
   "nbconvert_exporter": "python",
   "pygments_lexer": "ipython2",
   "version": "2.7.6"
  }
 },
 "nbformat": 4,
 "nbformat_minor": 0
}