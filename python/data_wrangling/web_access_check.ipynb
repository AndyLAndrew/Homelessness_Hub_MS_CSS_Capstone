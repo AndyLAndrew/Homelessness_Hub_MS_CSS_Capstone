{
 "cells": [
  {
   "cell_type": "code",
   "execution_count": 1,
   "metadata": {
    "collapsed": true
   },
   "outputs": [],
   "source": [
    "import undetected_chromedriver as uc\n",
    "driver = uc.Chrome()\n",
    "\n",
    "import time , pandas as pd\n",
    "\n",
    "from bs4 import BeautifulSoup # Importing BS"
   ]
  },
  {
   "cell_type": "code",
   "execution_count": 16,
   "outputs": [
    {
     "name": "stdout",
     "output_type": "stream",
     "text": [
      "File: /Users/Andrew/Documents/School/2022-2023 Graduate UCSD Projects/MS_CSS_Capstone_22_23/Data_Preprocessing/Raw_Data/Public_Records_Request_19Jan2023/CU Unmasked.csv \n",
      " loaded into raw_transcript.\n",
      "\n"
     ]
    },
    {
     "data": {
      "text/plain": "                  CASE NUMBER       CITY    ZIP  MONTH  YEAR  \\\n0  37-2018-00000162-CU-UD-CTL  Oceanside  92056      1  2018   \n1  37-2018-00000630-CU-UD-CTL  San Diego  92114      1  2018   \n2  37-2018-00001189-CU-UD-CTL  Escondido  92025      1  2018   \n3  37-2018-00001657-CU-UD-CTL  San Diego  92110      1  2018   \n4  37-2018-00008591-CU-UD-CTL  San Diego  92108      2  2018   \n\n                             DISPO TYPE ANSWER MONEY JUDGMENT DEFAULT  \n0             Default judgment by clerk      N              N       Y  \n1  Court dismissal- Lack of Prosecution      N              N       Y  \n2             Default judgment by clerk      N              N       N  \n3             Default judgment by clerk      N              N       Y  \n4                 Request for Dismissal      N              N       N  ",
      "text/html": "<div>\n<style scoped>\n    .dataframe tbody tr th:only-of-type {\n        vertical-align: middle;\n    }\n\n    .dataframe tbody tr th {\n        vertical-align: top;\n    }\n\n    .dataframe thead th {\n        text-align: right;\n    }\n</style>\n<table border=\"1\" class=\"dataframe\">\n  <thead>\n    <tr style=\"text-align: right;\">\n      <th></th>\n      <th>CASE NUMBER</th>\n      <th>CITY</th>\n      <th>ZIP</th>\n      <th>MONTH</th>\n      <th>YEAR</th>\n      <th>DISPO TYPE</th>\n      <th>ANSWER</th>\n      <th>MONEY JUDGMENT</th>\n      <th>DEFAULT</th>\n    </tr>\n  </thead>\n  <tbody>\n    <tr>\n      <th>0</th>\n      <td>37-2018-00000162-CU-UD-CTL</td>\n      <td>Oceanside</td>\n      <td>92056</td>\n      <td>1</td>\n      <td>2018</td>\n      <td>Default judgment by clerk</td>\n      <td>N</td>\n      <td>N</td>\n      <td>Y</td>\n    </tr>\n    <tr>\n      <th>1</th>\n      <td>37-2018-00000630-CU-UD-CTL</td>\n      <td>San Diego</td>\n      <td>92114</td>\n      <td>1</td>\n      <td>2018</td>\n      <td>Court dismissal- Lack of Prosecution</td>\n      <td>N</td>\n      <td>N</td>\n      <td>Y</td>\n    </tr>\n    <tr>\n      <th>2</th>\n      <td>37-2018-00001189-CU-UD-CTL</td>\n      <td>Escondido</td>\n      <td>92025</td>\n      <td>1</td>\n      <td>2018</td>\n      <td>Default judgment by clerk</td>\n      <td>N</td>\n      <td>N</td>\n      <td>N</td>\n    </tr>\n    <tr>\n      <th>3</th>\n      <td>37-2018-00001657-CU-UD-CTL</td>\n      <td>San Diego</td>\n      <td>92110</td>\n      <td>1</td>\n      <td>2018</td>\n      <td>Default judgment by clerk</td>\n      <td>N</td>\n      <td>N</td>\n      <td>Y</td>\n    </tr>\n    <tr>\n      <th>4</th>\n      <td>37-2018-00008591-CU-UD-CTL</td>\n      <td>San Diego</td>\n      <td>92108</td>\n      <td>2</td>\n      <td>2018</td>\n      <td>Request for Dismissal</td>\n      <td>N</td>\n      <td>N</td>\n      <td>N</td>\n    </tr>\n  </tbody>\n</table>\n</div>"
     },
     "execution_count": 16,
     "metadata": {},
     "output_type": "execute_result"
    }
   ],
   "source": [
    "test = \n",
    "test = pd.read_csv(test)\n",
    "test.head()"
   ],
   "metadata": {
    "collapsed": false,
    "pycharm": {
     "name": "#%%\n"
    }
   }
  },
  {
   "cell_type": "code",
   "execution_count": 71,
   "outputs": [],
   "source": [
    "url = \"https://courtindex.sdcourt.ca.gov/CISPublic/casesearch\"\n"
   ],
   "metadata": {
    "collapsed": false,
    "pycharm": {
     "name": "#%%\n"
    }
   }
  },
  {
   "cell_type": "code",
   "execution_count": 81,
   "outputs": [
    {
     "data": {
      "text/plain": "<html><head><script language=\"JavaScript\">\n<!--  \n  function GoBack() {\n    history.back()\n    return false\n  }\n//  -->\n</script>\n<link href=\"cisstyle.css\" link=\"\" rel=\"stylesheet\" type=\"text/css\"/>\n<title>Case Number Search</title>\n</head>\n<body>\n<left><b><img align=\"left\" height=\"27\" src=\"SDSCcourtseal-bw-med.gif\" width=\"27\"/>\n<font color=\"DimGray\" size=\"2\">\n<strong>Superior Court of California, County of San Diego</strong>\n</font>\n</b>\n<hr/>\n<table border=\"0\" cellpadding=\"0\" cellspacing=\"10\" class=\"menubar\">\n<tbody><tr>\n<td><strong><a href=\"/CISPublic/enter\">\n<font color=\"blue\" size=\"2\">Court Index Home</font></a> </strong>\n</td>\n<td><strong><a href=\"\" onclick=\"return(GoBack())\">\n<font color=\"blue\" size=\"2\">Previous Page</font></a> </strong>\n</td>\n</tr>\n</tbody></table>\n<h3><strong>Case Number Search</strong></h3>\n<p>Enter the Case Number that you would like to find.  The total number of selections returned is limited, so the more detailed the search criteria, the easier it will be to find your case.</p>\n<p>If the Case Number you would like to find is in the format 'XX-YYYY-########-CC-TT-LLL', an entry shortcut is to enter just the year followed by the complete 8-digit sequence number, including leading zeros.  For Case Number, enter the number as YYYY########.  Do not enter any dashes or hyphens.</p>\n<script>\n        <!--\n       function validate()\n        {\n            var theForm = window.document.caseEntry;\n            var casenbr = theForm.casenum.value;\n            if (theForm.caseType.value == \"S\")\n            {\n                alert(\"Please select a Case Type.\");\n                return false;\n            }\n            if (theForm.site.value == \"S\")\n            {\n                alert(\"Please select a Case Location.\");\n                return false;\n            }\n            if (casenbr == \"\")\n            {\n                alert(\"Please enter a Case Number.\");\n                return false;\n            }\n            if (casenbr.length < 5)\n            {\n                alert(\"Please enter at least 5 characters for Case Number.\");\n                return false;\n            }\n            if ((casenbr.indexOf(\" \")) != -1)\n            {\n                alert(\"Please enter only letters, numbers, and dashes for Case Number.\");\n                return false;\n            }\n            if ((casenbr.indexOf(\"@\")) != -1)\n            {\n                alert(\"Please enter only letters, numbers, and dashes for Case Number.\");\n                return false;\n            }\n            if ((casenbr.indexOf(\"%\")) != -1)\n            {\n                alert(\"Please enter only letters, numbers, and dashes for Case Number.\");\n                return false;\n            }\n            if ((casenbr.indexOf(\"^\")) != -1)\n            {\n                alert(\"Please enter only letters, numbers, and dashes for Case Number.\");\n                return false;\n            }\n            if ((casenbr.indexOf(\"&\")) != -1)\n            {\n                alert(\"Please enter only letters, numbers, and dashes for Case Number.\");\n                return false;\n            }\n            if ((casenbr.indexOf(\"*\")) != -1)\n            {\n                alert(\"Please enter only letters, numbers, and dashes for Case Number.\");\n                return false;\n            }\n            if ((casenbr.indexOf(\"(\")) != -1)\n            {\n                alert(\"Please enter only letters, numbers, and dashes for Case Number.\");\n                return false;\n            }\n            if ((casenbr.indexOf(\")\")) != -1)\n            {\n                alert(\"Please enter only letters, numbers, and dashes for Case Number.\");\n                return false;\n            }\n            if ((casenbr.indexOf(\"{\")) != -1)\n            {\n                alert(\"Please enter only letters, numbers, and dashes for Case Number.\");\n                return false;\n            }\n            if ((casenbr.indexOf(\"}\")) != -1)\n            {\n                alert(\"Please enter only letters, numbers, and dashes for Case Number.\");\n                return false;\n            }\n            if ((casenbr.indexOf(\"[\")) != -1)\n            {\n                alert(\"Please enter only letters, numbers, and dashes for Case Number.\");\n                return false;\n            }\n            if ((casenbr.indexOf(\"]\")) != -1)\n            {\n                alert(\"Please enter only letters, numbers, and dashes for Case Number.\");\n                return false;\n            }\n            if ((casenbr.indexOf(\"+\")) != -1)\n            {\n                alert(\"Please enter only letters, numbers, and dashes for Case Number.\");\n                return false;\n            }\n            if ((casenbr.indexOf(\"\\\\\")) != -1)\n            {\n                alert(\"Please enter only letters, numbers, and dashes for Case Number.\");\n                return false;\n            }\n            if ((casenbr.indexOf(\"/\")) != -1)\n            {\n                alert(\"Please enter only letters, numbers, and dashes for Case Number.\");\n                return false;\n            }\n            if ((casenbr.indexOf(\"<\")) != -1)\n            {\n                alert(\"Please enter only letters, numbers, and dashes for Case Number.\");\n                return false;\n            }\n            if ((casenbr.indexOf(\">\")) != -1)\n            {\n                alert(\"Please enter only letters, numbers, and dashes for Case Number.\");\n                return false;\n            }\n            if ((casenbr.indexOf(\"?\")) != -1)\n            {\n                alert(\"Please enter only letters, numbers, and dashes for Case Number.\");\n                return false;\n            }\n            if ((casenbr.indexOf(\"!\")) != -1)\n            {\n                alert(\"Please enter only letters, numbers, and dashes for Case Number.\");\n                return false;\n            }\n            if ((casenbr.indexOf(\"$\")) != -1)\n            {\n                alert(\"Please enter only letters, numbers, and dashes for Case Number.\");\n                return false;\n            }\n            if ((casenbr.indexOf(\"_\")) != -1)\n            {\n                alert(\"Please enter only letters, numbers, and dashes for Case Number.\");\n                return false;\n            }\n            if ((casenbr.indexOf(\"=\")) != -1)\n            {\n                alert(\"Please enter only letters, numbers, and dashes for Case Number.\");\n                return false;\n            }\n            if ((casenbr.indexOf(\"|\")) != -1)\n            {\n                alert(\"Please enter only letters, numbers, and dashes for Case Number.\");\n                return false;\n            }\n            if ((casenbr.indexOf(\"'\")) != -1)\n            {\n                alert(\"Please enter only letters, numbers, and dashes for Case Number.\");\n                return false;\n            }\n            return true;\n        }\n        //-->\n    </script>\n<form action=\"/CISPublic/viewcase\" method=\"post\" name=\"caseEntry\" onsubmit=\"return validate()\">\n<table>\n<tbody><tr>\n<td>Case Type: </td>\n<td>\n<select name=\"caseType\">\n<option value=\"S\">Select Case Type</option>\n<option value=\"C\">Civil</option>\n<option value=\"R\">Criminal</option>\n<option value=\"D\">Domestic</option>\n<option value=\"M\">Mental Health</option>\n<option value=\"P\">Probate</option>\n<option value=\"A\">Unknown-All</option>\n</select>\n</td>\n</tr>\n<script>   window.document.caseEntry.caseType.focus()</script>\n<tr></tr>\n<tr></tr>\n<tr>\n<td>Case Location:</td>\n<td>\n<select name=\"site\">\n<option value=\"S\">Select Case Location</option>\n<option value=\"EC\">East County</option>\n<option value=\"KM\">Kearny Mesa</option>\n<option value=\"NC\">North County</option>\n<option value=\"RM\">Ramona</option>\n<option value=\"SD\">San Diego</option>\n<option value=\"SB\">South County</option>\n<option value=\"A\">Unknown-All</option>\n</select>\n</td>\n</tr>\n<tr></tr>\n<tr></tr>\n<tr>\n<td>Case Number:  </td>\n<td><input maxlength=\"30\" name=\"casenum\" size=\"30\" title=\"Enter a Case Number consisting of letters, numbers, and dashes.  At least 5 characters are required.\" type=\"text\" value=\"\"/>\n</td>\n</tr>\n<input name=\"page\" type=\"hidden\" value=\"1\"/>\n<tr></tr>\n<tr></tr>\n<tr>\n<td></td>\n<td>\n<input type=\"submit\" value=\"Submit\"/> \n                    <input type=\"reset\" value=\"Reset\"/> \n                </td>\n</tr>\n</tbody></table>\n</form>\n<!-- the following script allows Google Analytics to track page navigation --&>\n<script>\n  (function(i,s,o,g,r,a,m){i['GoogleAnalyticsObject']=r;i[r]=i[r]||function(){\n  (i[r].q=i[r].q||[]).push(arguments)},i[r].l=1*new Date();a=s.createElement(o),\n  m=s.getElementsByTagName(o)[0];a.async=1;a.src=g;m.parentNode.insertBefore(a,m)\n  })(window,document,'script','https://www.google-analytics.com/analytics.js','ga');\n\n  ga('create', 'UA-5960592-1', 'auto');\n  ga('send', 'pageview');\n\n</script>\n</body>\n</html>\n--></left></body></html>"
     },
     "execution_count": 81,
     "metadata": {},
     "output_type": "execute_result"
    }
   ],
   "source": [
    "driver.get(url)\n",
    "page_source = driver.page_source\n",
    "\n",
    "soup = BeautifulSoup(page_source, 'html.parser')\n",
    "soup"
   ],
   "metadata": {
    "collapsed": false,
    "pycharm": {
     "name": "#%%\n"
    }
   }
  },
  {
   "cell_type": "code",
   "execution_count": 44,
   "outputs": [],
   "source": [
    "soup.body.find(id=\"content_main\")"
   ],
   "metadata": {
    "collapsed": false,
    "pycharm": {
     "name": "#%%\n"
    }
   }
  }
 ],
 "metadata": {
  "kernelspec": {
   "display_name": "Python 3",
   "language": "python",
   "name": "python3"
  },
  "language_info": {
   "codemirror_mode": {
    "name": "ipython",
    "version": 2
   },
   "file_extension": ".py",
   "mimetype": "text/x-python",
   "name": "python",
   "nbconvert_exporter": "python",
   "pygments_lexer": "ipython2",
   "version": "2.7.6"
  }
 },
 "nbformat": 4,
 "nbformat_minor": 0
}