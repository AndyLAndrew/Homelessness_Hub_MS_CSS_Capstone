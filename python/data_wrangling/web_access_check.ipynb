{
 "cells": [
  {
   "cell_type": "code",
   "execution_count": 42,
   "metadata": {
    "collapsed": true
   },
   "outputs": [],
   "source": [
    "import os.path as path # used for easily finding the csvs in other directories\n",
    "import undetected_chromedriver as uc # used to webscrape past cloudflare\n",
    "webdriver = uc.Chrome() # used to power uc\n",
    "import time , pandas as pd # time is to delay webscrapping and prevent bans, pandas for dataframes\n",
    "from bs4 import BeautifulSoup # Importing Beautiful soup to parse scrapped sites"
   ]
  },
  {
   "cell_type": "code",
   "execution_count": 31,
   "outputs": [
    {
     "data": {
      "text/plain": "                  CASE NUMBER       CITY    ZIP  MONTH  YEAR  \\\n0  37-2018-00000071-CL-UD-CTL  San Diego  92139      1  2018   \n\n                DISPO TYPE ANSWER MONEY JUDGMENT DEFAULT  \n0  Court-ordered dismissal      Y              N       N  ",
      "text/html": "<div>\n<style scoped>\n    .dataframe tbody tr th:only-of-type {\n        vertical-align: middle;\n    }\n\n    .dataframe tbody tr th {\n        vertical-align: top;\n    }\n\n    .dataframe thead th {\n        text-align: right;\n    }\n</style>\n<table border=\"1\" class=\"dataframe\">\n  <thead>\n    <tr style=\"text-align: right;\">\n      <th></th>\n      <th>CASE NUMBER</th>\n      <th>CITY</th>\n      <th>ZIP</th>\n      <th>MONTH</th>\n      <th>YEAR</th>\n      <th>DISPO TYPE</th>\n      <th>ANSWER</th>\n      <th>MONEY JUDGMENT</th>\n      <th>DEFAULT</th>\n    </tr>\n  </thead>\n  <tbody>\n    <tr>\n      <th>0</th>\n      <td>37-2018-00000071-CL-UD-CTL</td>\n      <td>San Diego</td>\n      <td>92139</td>\n      <td>1</td>\n      <td>2018</td>\n      <td>Court-ordered dismissal</td>\n      <td>Y</td>\n      <td>N</td>\n      <td>N</td>\n    </tr>\n  </tbody>\n</table>\n</div>"
     },
     "execution_count": 31,
     "metadata": {},
     "output_type": "execute_result"
    }
   ],
   "source": [
    "# loading csv from local directory\n",
    "temp_path = path.abspath(path.join(\"data\" ,\"../../..\")) # finds the parent directory\n",
    "temp_directory_end = '/data/raw_data/public_records_request_19Jan2023/CL_masked.csv'\n",
    "temp_directory_end = temp_path + temp_directory_end # concatenates with directory for csvs\n",
    "df_court_docs = pd.read_csv(temp_directory_end) # creates df with csv\n",
    "df_court_docs.head(1) # displays first row\n"
   ],
   "metadata": {
    "collapsed": false,
    "pycharm": {
     "name": "#%%\n"
    }
   }
  },
  {
   "cell_type": "code",
   "execution_count": 36,
   "outputs": [
    {
     "data": {
      "text/plain": "0        00000071\n1        00000103\n2        00000117\n3        00000125\n4        00000137\n           ...   \n23119    00052500\n23120    00052501\n23121    00052502\n23122    00052503\n23123    00052504\nName: CN_Search, Length: 23124, dtype: object"
     },
     "execution_count": 36,
     "metadata": {},
     "output_type": "execute_result"
    }
   ],
   "source": [
    "# isolating case number needed to cross check online\n",
    "df_court_docs['CN_Search'] = df_court_docs[\"CASE NUMBER\"].str.split('-').str[2]"
   ],
   "metadata": {
    "collapsed": false,
    "pycharm": {
     "name": "#%%\n"
    }
   }
  },
  {
   "cell_type": "code",
   "execution_count": 32,
   "outputs": [],
   "source": [
    "url = \"https://courtindex.sdcourt.ca.gov/CISPublic/casesearch\"\n",
    "test = 0"
   ],
   "metadata": {
    "collapsed": false,
    "pycharm": {
     "name": "#%%\n"
    }
   }
  },
  {
   "cell_type": "code",
   "execution_count": 39,
   "outputs": [
    {
     "data": {
      "text/plain": "52501"
     },
     "execution_count": 39,
     "metadata": {},
     "output_type": "execute_result"
    }
   ],
   "source": [
    "case_number = int('00052501')\n",
    "case_number"
   ],
   "metadata": {
    "collapsed": false,
    "pycharm": {
     "name": "#%%\n"
    }
   }
  },
  {
   "cell_type": "code",
   "execution_count": 46,
   "outputs": [
    {
     "ename": "JavascriptException",
     "evalue": "Message: javascript error: Unexpected identifier 'POST'\n  (Session info: chrome=110.0.5481.100)\nStacktrace:\n0   undetected_chromedriver             0x0000000102b55138 undetected_chromedriver + 4923704\n1   undetected_chromedriver             0x0000000102acd9d3 undetected_chromedriver + 4368851\n2   undetected_chromedriver             0x0000000102716787 undetected_chromedriver + 472967\n3   undetected_chromedriver             0x000000010271a8b4 undetected_chromedriver + 489652\n4   undetected_chromedriver             0x000000010271a496 undetected_chromedriver + 488598\n5   undetected_chromedriver             0x000000010271b51e undetected_chromedriver + 492830\n6   undetected_chromedriver             0x000000010279f8af undetected_chromedriver + 1034415\n7   undetected_chromedriver             0x0000000102783fb2 undetected_chromedriver + 921522\n8   undetected_chromedriver             0x000000010279ec0f undetected_chromedriver + 1031183\n9   undetected_chromedriver             0x0000000102783d23 undetected_chromedriver + 920867\n10  undetected_chromedriver             0x000000010274aa4b undetected_chromedriver + 686667\n11  undetected_chromedriver             0x000000010274c044 undetected_chromedriver + 692292\n12  undetected_chromedriver             0x0000000102b208fe undetected_chromedriver + 4708606\n13  undetected_chromedriver             0x0000000102b25e22 undetected_chromedriver + 4730402\n14  undetected_chromedriver             0x0000000102b2e6bf undetected_chromedriver + 4765375\n15  undetected_chromedriver             0x0000000102b26e80 undetected_chromedriver + 4734592\n16  undetected_chromedriver             0x0000000102af7975 undetected_chromedriver + 4540789\n17  undetected_chromedriver             0x0000000102b48e78 undetected_chromedriver + 4873848\n18  undetected_chromedriver             0x0000000102b48ff5 undetected_chromedriver + 4874229\n19  undetected_chromedriver             0x0000000102b5d6de undetected_chromedriver + 4957918\n20  libsystem_pthread.dylib             0x00007ff81ed7d4e1 _pthread_start + 125\n21  libsystem_pthread.dylib             0x00007ff81ed78f6b thread_start + 15\n",
     "output_type": "error",
     "traceback": [
      "\u001B[0;31m---------------------------------------------------------------------------\u001B[0m",
      "\u001B[0;31mJavascriptException\u001B[0m                       Traceback (most recent call last)",
      "Cell \u001B[0;32mIn[46], line 5\u001B[0m\n\u001B[1;32m      1\u001B[0m form_params \u001B[38;5;241m=\u001B[39m {\u001B[38;5;124m'\u001B[39m\u001B[38;5;124mcaseType\u001B[39m\u001B[38;5;124m'\u001B[39m:\u001B[38;5;124m'\u001B[39m\u001B[38;5;124mA\u001B[39m\u001B[38;5;124m'\u001B[39m, \u001B[38;5;124m'\u001B[39m\u001B[38;5;124msite\u001B[39m\u001B[38;5;124m'\u001B[39m:\u001B[38;5;124m'\u001B[39m\u001B[38;5;124mA\u001B[39m\u001B[38;5;124m'\u001B[39m,\u001B[38;5;124m'\u001B[39m\u001B[38;5;124mcasenum\u001B[39m\u001B[38;5;124m'\u001B[39m:case_number}\n\u001B[1;32m      2\u001B[0m \u001B[38;5;66;03m#webdriver.get(url)\u001B[39;00m\n\u001B[1;32m      3\u001B[0m \u001B[38;5;66;03m#webdriver.request('POST',url, data=form_params)\u001B[39;00m\n\u001B[0;32m----> 5\u001B[0m \u001B[43mwebdriver\u001B[49m\u001B[38;5;241;43m.\u001B[39;49m\u001B[43mexecute_script\u001B[49m\u001B[43m(\u001B[49m\u001B[38;5;124;43m\"\"\"\u001B[39;49m\u001B[38;5;124;43m\"\u001B[39;49m\u001B[38;5;124;43mreturn fetch(url, \u001B[39;49m\u001B[38;5;124;43m{\u001B[39;49m\u001B[38;5;124;43mmethod:\u001B[39;49m\u001B[38;5;124;43m\"\u001B[39;49m\u001B[38;5;124;43mPOST\u001B[39;49m\u001B[38;5;124;43m\"\u001B[39;49m\u001B[38;5;124;43m, data=form_params})\u001B[39;49m\u001B[38;5;124;43m\"\"\"\u001B[39;49m\u001B[38;5;124;43m\"\u001B[39;49m\u001B[38;5;124;43m\"\u001B[39;49m\u001B[43m)\u001B[49m\n\u001B[1;32m      7\u001B[0m page_source \u001B[38;5;241m=\u001B[39m webdriver\u001B[38;5;241m.\u001B[39mpage_source\n\u001B[1;32m      9\u001B[0m soup \u001B[38;5;241m=\u001B[39m BeautifulSoup(page_source, \u001B[38;5;124m'\u001B[39m\u001B[38;5;124mhtml.parser\u001B[39m\u001B[38;5;124m'\u001B[39m)\n",
      "File \u001B[0;32m~/Documents/Projects/Code/Python/Github/Homelessness_Hub_MS_CSS_Capstone/python/environment/lib/python3.9/site-packages/selenium/webdriver/remote/webdriver.py:500\u001B[0m, in \u001B[0;36mWebDriver.execute_script\u001B[0;34m(self, script, *args)\u001B[0m\n\u001B[1;32m    497\u001B[0m converted_args \u001B[38;5;241m=\u001B[39m \u001B[38;5;28mlist\u001B[39m(args)\n\u001B[1;32m    498\u001B[0m command \u001B[38;5;241m=\u001B[39m Command\u001B[38;5;241m.\u001B[39mW3C_EXECUTE_SCRIPT\n\u001B[0;32m--> 500\u001B[0m \u001B[38;5;28;01mreturn\u001B[39;00m \u001B[38;5;28;43mself\u001B[39;49m\u001B[38;5;241;43m.\u001B[39;49m\u001B[43mexecute\u001B[49m\u001B[43m(\u001B[49m\u001B[43mcommand\u001B[49m\u001B[43m,\u001B[49m\u001B[43m \u001B[49m\u001B[43m{\u001B[49m\u001B[38;5;124;43m\"\u001B[39;49m\u001B[38;5;124;43mscript\u001B[39;49m\u001B[38;5;124;43m\"\u001B[39;49m\u001B[43m:\u001B[49m\u001B[43m \u001B[49m\u001B[43mscript\u001B[49m\u001B[43m,\u001B[49m\u001B[43m \u001B[49m\u001B[38;5;124;43m\"\u001B[39;49m\u001B[38;5;124;43margs\u001B[39;49m\u001B[38;5;124;43m\"\u001B[39;49m\u001B[43m:\u001B[49m\u001B[43m \u001B[49m\u001B[43mconverted_args\u001B[49m\u001B[43m}\u001B[49m\u001B[43m)\u001B[49m[\u001B[38;5;124m\"\u001B[39m\u001B[38;5;124mvalue\u001B[39m\u001B[38;5;124m\"\u001B[39m]\n",
      "File \u001B[0;32m~/Documents/Projects/Code/Python/Github/Homelessness_Hub_MS_CSS_Capstone/python/environment/lib/python3.9/site-packages/selenium/webdriver/remote/webdriver.py:440\u001B[0m, in \u001B[0;36mWebDriver.execute\u001B[0;34m(self, driver_command, params)\u001B[0m\n\u001B[1;32m    438\u001B[0m response \u001B[38;5;241m=\u001B[39m \u001B[38;5;28mself\u001B[39m\u001B[38;5;241m.\u001B[39mcommand_executor\u001B[38;5;241m.\u001B[39mexecute(driver_command, params)\n\u001B[1;32m    439\u001B[0m \u001B[38;5;28;01mif\u001B[39;00m response:\n\u001B[0;32m--> 440\u001B[0m     \u001B[38;5;28;43mself\u001B[39;49m\u001B[38;5;241;43m.\u001B[39;49m\u001B[43merror_handler\u001B[49m\u001B[38;5;241;43m.\u001B[39;49m\u001B[43mcheck_response\u001B[49m\u001B[43m(\u001B[49m\u001B[43mresponse\u001B[49m\u001B[43m)\u001B[49m\n\u001B[1;32m    441\u001B[0m     response[\u001B[38;5;124m\"\u001B[39m\u001B[38;5;124mvalue\u001B[39m\u001B[38;5;124m\"\u001B[39m] \u001B[38;5;241m=\u001B[39m \u001B[38;5;28mself\u001B[39m\u001B[38;5;241m.\u001B[39m_unwrap_value(response\u001B[38;5;241m.\u001B[39mget(\u001B[38;5;124m\"\u001B[39m\u001B[38;5;124mvalue\u001B[39m\u001B[38;5;124m\"\u001B[39m, \u001B[38;5;28;01mNone\u001B[39;00m))\n\u001B[1;32m    442\u001B[0m     \u001B[38;5;28;01mreturn\u001B[39;00m response\n",
      "File \u001B[0;32m~/Documents/Projects/Code/Python/Github/Homelessness_Hub_MS_CSS_Capstone/python/environment/lib/python3.9/site-packages/selenium/webdriver/remote/errorhandler.py:245\u001B[0m, in \u001B[0;36mErrorHandler.check_response\u001B[0;34m(self, response)\u001B[0m\n\u001B[1;32m    243\u001B[0m         alert_text \u001B[38;5;241m=\u001B[39m value[\u001B[38;5;124m\"\u001B[39m\u001B[38;5;124malert\u001B[39m\u001B[38;5;124m\"\u001B[39m]\u001B[38;5;241m.\u001B[39mget(\u001B[38;5;124m\"\u001B[39m\u001B[38;5;124mtext\u001B[39m\u001B[38;5;124m\"\u001B[39m)\n\u001B[1;32m    244\u001B[0m     \u001B[38;5;28;01mraise\u001B[39;00m exception_class(message, screen, stacktrace, alert_text)  \u001B[38;5;66;03m# type: ignore[call-arg]  # mypy is not smart enough here\u001B[39;00m\n\u001B[0;32m--> 245\u001B[0m \u001B[38;5;28;01mraise\u001B[39;00m exception_class(message, screen, stacktrace)\n",
      "\u001B[0;31mJavascriptException\u001B[0m: Message: javascript error: Unexpected identifier 'POST'\n  (Session info: chrome=110.0.5481.100)\nStacktrace:\n0   undetected_chromedriver             0x0000000102b55138 undetected_chromedriver + 4923704\n1   undetected_chromedriver             0x0000000102acd9d3 undetected_chromedriver + 4368851\n2   undetected_chromedriver             0x0000000102716787 undetected_chromedriver + 472967\n3   undetected_chromedriver             0x000000010271a8b4 undetected_chromedriver + 489652\n4   undetected_chromedriver             0x000000010271a496 undetected_chromedriver + 488598\n5   undetected_chromedriver             0x000000010271b51e undetected_chromedriver + 492830\n6   undetected_chromedriver             0x000000010279f8af undetected_chromedriver + 1034415\n7   undetected_chromedriver             0x0000000102783fb2 undetected_chromedriver + 921522\n8   undetected_chromedriver             0x000000010279ec0f undetected_chromedriver + 1031183\n9   undetected_chromedriver             0x0000000102783d23 undetected_chromedriver + 920867\n10  undetected_chromedriver             0x000000010274aa4b undetected_chromedriver + 686667\n11  undetected_chromedriver             0x000000010274c044 undetected_chromedriver + 692292\n12  undetected_chromedriver             0x0000000102b208fe undetected_chromedriver + 4708606\n13  undetected_chromedriver             0x0000000102b25e22 undetected_chromedriver + 4730402\n14  undetected_chromedriver             0x0000000102b2e6bf undetected_chromedriver + 4765375\n15  undetected_chromedriver             0x0000000102b26e80 undetected_chromedriver + 4734592\n16  undetected_chromedriver             0x0000000102af7975 undetected_chromedriver + 4540789\n17  undetected_chromedriver             0x0000000102b48e78 undetected_chromedriver + 4873848\n18  undetected_chromedriver             0x0000000102b48ff5 undetected_chromedriver + 4874229\n19  undetected_chromedriver             0x0000000102b5d6de undetected_chromedriver + 4957918\n20  libsystem_pthread.dylib             0x00007ff81ed7d4e1 _pthread_start + 125\n21  libsystem_pthread.dylib             0x00007ff81ed78f6b thread_start + 15\n"
     ]
    }
   ],
   "source": [
    "form_params = {'caseType':'A', 'site':'A','casenum':case_number}\n",
    "#webdriver.get(url)\n",
    "#webdriver.request('POST',url, data=form_params)\n",
    "\n",
    "webdriver.execute_script(\"\"\"\"return fetch(url, {method:\"POST\", data=form_params})\"\"\"\"\")\n",
    "\n",
    "page_source = webdriver.page_source\n",
    "\n",
    "soup = BeautifulSoup(page_source, 'html.parser')\n",
    "soup"
   ],
   "metadata": {
    "collapsed": false,
    "pycharm": {
     "name": "#%%\n"
    }
   }
  },
  {
   "cell_type": "code",
   "execution_count": 44,
   "outputs": [],
   "source": [
    "soup.body.find(id=\"content_main\")"
   ],
   "metadata": {
    "collapsed": false,
    "pycharm": {
     "name": "#%%\n"
    }
   }
  }
 ],
 "metadata": {
  "kernelspec": {
   "display_name": "Python 3",
   "language": "python",
   "name": "python3"
  },
  "language_info": {
   "codemirror_mode": {
    "name": "ipython",
    "version": 2
   },
   "file_extension": ".py",
   "mimetype": "text/x-python",
   "name": "python",
   "nbconvert_exporter": "python",
   "pygments_lexer": "ipython2",
   "version": "2.7.6"
  }
 },
 "nbformat": 4,
 "nbformat_minor": 0
}