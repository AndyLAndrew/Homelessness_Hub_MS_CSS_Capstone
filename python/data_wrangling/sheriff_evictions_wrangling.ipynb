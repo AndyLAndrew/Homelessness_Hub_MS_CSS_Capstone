{
 "cells": [
  {
   "cell_type": "code",
   "execution_count": 21,
   "metadata": {
    "collapsed": true
   },
   "outputs": [],
   "source": [
    "import os.path as path # used for easily finding the csvs in other directories\n",
    "from PyPDF2 import PdfReader # used to read and extract text from PDFs\n",
    "\n",
    "import pandas as pd, numpy as np, matplotlib.pyplot as plt, seaborn as sns\n",
    "from datetime import datetime"
   ]
  },
  {
   "cell_type": "code",
   "execution_count": 5,
   "outputs": [],
   "source": [
    "# loading csv from local directory function\n",
    "def load_within_directory(directory_string):\n",
    "    \"\"\"\n",
    "    Takes in a string of where your csv is located in the repo folder and turns\n",
    "    into a dataframe using pandas read_csv\n",
    "\n",
    "    example directory string: '/data/raw_data/CIE/client_needs_table.csv'\n",
    "    :param directory_string: string containing file with directory desired\n",
    "    :return: a dataframe\n",
    "    \"\"\"\n",
    "\n",
    "    temp_path = path.abspath(path.join(\"data\" ,\"../../..\")) # finds the parent directory\n",
    "\n",
    "    # concatenates with directory\n",
    "    return temp_path + directory_string"
   ],
   "metadata": {
    "collapsed": false,
    "pycharm": {
     "name": "#%%\n"
    }
   }
  },
  {
   "cell_type": "code",
   "execution_count": 7,
   "outputs": [],
   "source": [
    "# loading sheriff pdf\n",
    "sheriff_pdf = PdfReader(load_within_directory('/data/raw_data/sheriff_evictions_2018_jan_2023/sdso_lockout_service_activity_details_jan_2018_jan_2023.pdf'))"
   ],
   "metadata": {
    "collapsed": false,
    "pycharm": {
     "name": "#%%\n"
    }
   }
  },
  {
   "cell_type": "code",
   "execution_count": 9,
   "outputs": [
    {
     "name": "stdout",
     "output_type": "stream",
     "text": [
      "1184\n",
      "SAN DIEGO COUNTY SHERIFF'S OFFICE\n",
      "Eviction List\n",
      "TO 01/01/2018 01/31/2023\n",
      "Office Phone #: (619) 544-6401\n",
      "Address Status File Number Occupants Restoration Date Time\n",
      "Chula Vista\n",
      "2015250864 NOTFOUND Alex Luevano,All Unknown \n",
      "Occupants,Carlos \n",
      "Luevano1256 8th Street\n",
      "(Front and Back House)\n",
      "Imperial Beach, CA 9193204/21/2021  12:00 AM\n",
      "2015250883 CANCELLED Audra Souza, Anthony A . \n",
      "Souza464 E H St #503\n",
      "Chula Vista , CA 9191005/20/2020  12:00 AM\n",
      "2017253065 SERVED Maria Varela ,Luis Matheu \n",
      "III1754 Via Costina\n",
      "San Diego, CA 9217301/04/2018  12:00 AM\n",
      "2017253067 SERVED All Unknown \n",
      "Occupants, Charvella West1357 Burgundy Dr\n",
      "Chula Vista , CA 9191301/04/2018  12:00 AM\n",
      "2017253088 SERVED Hildelisa Ochoa,All \n",
      "Unknown Occupants918 Tenth St , #3\n",
      "Coronado, CA 9211801/03/2018  12:00 AM\n",
      "2017253090 SERVED All Unknown \n",
      "Occupants,Raphael \n",
      "Vazquez ,Vanessa Rachel \n",
      "Vazquez1746 Via Capri\n",
      "Chula Vista , CA 9191301/03/2018  12:00 AM\n",
      "2017253147 SERVED Rogel Trucking , \n",
      "LLC,Jeremias Rogel Jr,All \n",
      "Unknown Occupants10030 Marconi Dr Ste D\n",
      "San Diego, CA 9215401/09/2018  12:00 AM\n",
      "2017253248 SERVED All Unknown \n",
      "Occupants, Debra Ann \n",
      "Roberson2131 Palo Alto Dr , Unit #108\n",
      "Chula Vista , CA 9191401/24/2018  12:00 AM\n",
      "2017253299 SERVED Tameika Delaney ,All \n",
      "Unknown Occupants513 Park Way #12\n",
      "Chula Vista , CA 9191001/03/2018  12:00 AM\n",
      "2017253305 SERVED United LC Capital LLC a \n",
      "Ca.L.L. co. &amp; dba \n",
      "Love CultureWestfield Plaza Bonita\n",
      "3030 Plaza Bonita Rd Str #2280\n",
      "National City, CA 9195001/16/2018  12:00 AM\n",
      "2017253313 SERVED All Unknown \n",
      "Occupants,Marisabel \n",
      "Rangel,Jessica M Mullaly3916 Rene Dr\n",
      "San Diego, CA 9215401/03/2018  12:00 AM\n",
      "2017253314 CANCELLED Jessica Benavidos,All \n",
      "Unknown \n",
      "Occupants,Justin Landry2708 Lincoln Ct #2\n",
      "National City, CA 9195001/03/2018  12:00 AM\n",
      "Printed: 02/16/2023 Page 1 of 1184\n"
     ]
    }
   ],
   "source": [
    "# this cell is just to detail what will go on in the pdf\n",
    "# parsing loop\n",
    "\n",
    "# We need to check the length of pages in the file\n",
    "print(len(sheriff_pdf.pages)) # should be 1184\n",
    "\n",
    "# grab a specific page from the pdf file\n",
    "temp_page = sheriff_pdf.pages[0]\n",
    "\n",
    "# then extract the text from page and save it\n",
    "temp_text = temp_page.extract_text()\n",
    "print(temp_text)"
   ],
   "metadata": {
    "collapsed": false,
    "pycharm": {
     "name": "#%%\n"
    }
   }
  },
  {
   "cell_type": "markdown",
   "source": [
    "# SDSO PDF Extraction Tool\n",
    "## How this works\n",
    "* First, the PDF is read from the above code, luckily it is fairly light on images so it is no larger than 4 MB\n",
    "* Second, the loop below will scrape every single page of text and store it into a large object (like a big text file)\n",
    "    * This makes it easier to parse through and format into a dataframe\n",
    "* Third, we need to make a string parser loop which will store a dictionary of each \"column\" for the dataframe. This is a bit difficult as we will essentially need to figure out how many lines each \"row\" this takes up.\n",
    "    * The parser divides the giant text document into rows, then adds them to each respective column pieceewise\n",
    "* Each column will be merged into a single dataframe with the hopes that it will be much easier to analyse.\n",
    "---"
   ],
   "metadata": {
    "collapsed": false,
    "pycharm": {
     "name": "#%% md\n"
    }
   }
  },
  {
   "cell_type": "code",
   "execution_count": 10,
   "outputs": [],
   "source": [
    "# making a string object to append to\n",
    "raw_pdf_string = \"\"\n",
    "\n",
    "for i in range(0, len(sheriff_pdf.pages)):\n",
    "    temp_page = sheriff_pdf.pages[i]\n",
    "    temp_text = temp_page.extract_text()\n",
    "    raw_pdf_string = raw_pdf_string + temp_text\n"
   ],
   "metadata": {
    "collapsed": false,
    "pycharm": {
     "name": "#%%\n"
    }
   }
  },
  {
   "cell_type": "markdown",
   "source": [
    "So the format for each row should be:\n",
    "\n",
    "Chula Vista\n",
    "\n",
    "2015250864 NOTFOUND Alex Luevano,All Unknown\n",
    "\n",
    "Occupants,Carlos\n",
    "\n",
    "Luevano1256 8th Street\n",
    "\n",
    "(Front and Back House)\n",
    "\n",
    "Imperial Beach, CA 9193204/21/2021  12:00 AM\n",
    "\n",
    "* First we need to remove the initial title\n",
    "* Then try chunking them out into a proper row or column header/unneeded info\n",
    "\n",
    "---"
   ],
   "metadata": {
    "collapsed": false,
    "pycharm": {
     "name": "#%% md\n"
    }
   }
  },
  {
   "cell_type": "code",
   "execution_count": 146,
   "outputs": [],
   "source": [
    "# converting lines into a list to index through\n",
    "raw_pdf_list = raw_pdf_string.splitlines()\n",
    "del raw_pdf_list[0:6] # deleting the police header to make it easier to process\n",
    "# very odd \"Chula Vista\" entry? Was this a mistake?"
   ],
   "metadata": {
    "collapsed": false,
    "pycharm": {
     "name": "#%%\n"
    }
   }
  },
  {
   "cell_type": "code",
   "execution_count": 147,
   "outputs": [],
   "source": [
    "# okay, so we can see that the items starting with \"Address\" should be removed\n",
    "# any lines beginning with \"Printed:\" also must be removed\n",
    "# look at this for an example, 'Printed:' in raw_pdf_list[46]\n",
    "for i in reversed(range(len(raw_pdf_list))): # reversing through list as dropping indeces causes issues\n",
    "    if 'Printed:' in raw_pdf_list[i]:\n",
    "        del raw_pdf_list[i]\n",
    "# now we have no more headings or needless info other than rows!"
   ],
   "metadata": {
    "collapsed": false,
    "pycharm": {
     "name": "#%%\n"
    }
   }
  },
  {
   "cell_type": "code",
   "execution_count": 148,
   "outputs": [],
   "source": [
    "# next, we need to split up all of these into row cells\n",
    "# the best way would be to look for the file no. and end at the time\n",
    "# raw_pdf_list[0][0:2] to check for 20 or 30\n",
    "# raw_pdf_list[4][-2::1] # to check for AM or PM\n",
    "raw_rows = []\n",
    "temp_string = \"\"\n",
    "\n",
    "for string in raw_pdf_list:\n",
    "    temp_string = temp_string + string\n",
    "    if (string[-2::1] == \"AM\") or (string[-2::1] == \"PM\"):\n",
    "        raw_rows.append(temp_string)\n",
    "        temp_string = \"\"\n",
    "\n",
    "# also holy moly, is it just an error or laziness?\n",
    "# all the recorded Times as 12:00AM..."
   ],
   "metadata": {
    "collapsed": false,
    "pycharm": {
     "name": "#%%\n"
    }
   }
  },
  {
   "cell_type": "code",
   "execution_count": 149,
   "outputs": [],
   "source": [
    "# first lets get the case no.\n",
    "# easy enough, just strip the first 10 digits from the left\n",
    "case_no_list = []\n",
    "for i in range(0, len(raw_rows), 1):\n",
    "    case_no = raw_rows[i][0:10]\n",
    "    case_no_list.append(case_no)\n",
    "    raw_rows[i] = raw_rows[i].replace(case_no, '')\n",
    "    raw_rows[i] = raw_rows[i].lstrip()"
   ],
   "metadata": {
    "collapsed": false,
    "pycharm": {
     "name": "#%%\n"
    }
   }
  },
  {
   "cell_type": "code",
   "execution_count": 151,
   "outputs": [],
   "source": [
    "# next for the case statuses\n",
    "status_list = []\n",
    "for i in range(0, len(raw_rows), 1):\n",
    "    all_words = raw_rows[i].split()\n",
    "    status = all_words[0]\n",
    "    del all_words[0]\n",
    "    raw_rows[i] = ' '.join(all_words)\n",
    "    status_list.append(status)"
   ],
   "metadata": {
    "collapsed": false,
    "pycharm": {
     "name": "#%%\n"
    }
   }
  },
  {
   "cell_type": "code",
   "execution_count": 170,
   "outputs": [],
   "source": [
    "# next are the dates\n",
    "# raw_rows[0][-19::1] is the format\n",
    "date_list = []\n",
    "for i in range(0, len(raw_rows), 1):\n",
    "    date = raw_rows[i][-19::1]\n",
    "    date_list.append(date)\n",
    "    raw_rows[i] = raw_rows[i].replace(date, '')\n",
    "    raw_rows[i] = raw_rows[i].rstrip()"
   ],
   "metadata": {
    "collapsed": false,
    "pycharm": {
     "name": "#%%\n"
    }
   }
  },
  {
   "cell_type": "code",
   "execution_count": 180,
   "outputs": [],
   "source": [
    "# current progress, almost done, just need to split the\n",
    "# names and addresses. This Might be a little tricky...\n",
    "\n",
    "# For now, here is the current dataframe, we will instead add in the columns\n",
    "# cleaned from the library's method\n",
    "dataframe_dict = {\"File_Number\":case_no_list, \"Raw_Rows\":raw_rows, \"Restoration_Date\":date_list, \"Status\":status_list}\n",
    "current_df = pd.DataFrame(dataframe_dict)\n",
    "current_df.head()"
   ],
   "metadata": {
    "collapsed": false,
    "pycharm": {
     "name": "#%%\n"
    }
   }
  },
  {
   "cell_type": "code",
   "execution_count": 188,
   "outputs": [],
   "source": [
    "# loading library df from EvictionPDF_altered script\n",
    "library_df = pd.read_csv(load_within_directory('/data/raw_data/sheriff_evictions_2018_jan_2023/evictions_library_export.csv'))"
   ],
   "metadata": {
    "collapsed": false,
    "pycharm": {
     "name": "#%%\n"
    }
   }
  },
  {
   "cell_type": "code",
   "execution_count": 189,
   "outputs": [
    {
     "data": {
      "text/plain": "                   File_Number  \\\n0      Chula Vista\\n2015250864   \n1                   2015250883   \n2                   2017253065   \n3                   2017253067   \n4                   2017253088   \n...                        ...   \n14831               2023450129   \n14832               2023450129   \n14833               2023450131   \n14834               2023450132   \n14835               2023450132   \n\n                                               Occupants  \\\n0      Alex Luevano,All Unknown\\nOccupants,Carlos\\nLu...   \n1                          Audra Souza,Anthony A.\\nSouza   \n2                          Maria Varela,Luis Matheu\\nIII   \n3                  All Unknown\\nOccupants,Charvella West   \n4                 Hildelisa Ochoa,All\\nUnknown Occupants   \n...                                                  ...   \n14831                All Unknown\\nOccupants,John M. Caro   \n14832                All Unknown\\nOccupants,John M. Caro   \n14833  Jose Agular,Johanna\\nFuentes,All Unknown\\nOccu...   \n14834    Kelly A. Celella,Eugene\\nCatibog,Craig Nicholas   \n14835    Kelly A. Celella,Eugene\\nCatibog,Craig Nicholas   \n\n                                                 Address Restoration_Date  \\\n0      1256 8th Street\\n(Front and Back House)\\nImper...       04/21/2021   \n1                 464 E H St #503\\nChula Vista, CA 91910       05/20/2020   \n2                  1754 Via Costina\\nSan Diego, CA 92173       01/04/2018   \n3                1357 Burgundy Dr\\nChula Vista, CA 91913       01/04/2018   \n4                   918 Tenth St, #3\\nCoronado, CA 92118       01/03/2018   \n...                                                  ...              ...   \n14831   145 W El Norte Parkway #225\\nEscondido, CA 92026       01/27/2023   \n14832  145 W El Norte Parkway Garage\\n#56Escondido,\\n...       01/27/2023   \n14833    514 N. Vine Street, Unit 1\\nFallbrook, CA 92028       01/30/2023   \n14834               9986 Via Daroca\\nSan Diego, CA 92129       01/27/2023   \n14835  9986 Via Daroca detached\\ngarageSan\\nDiego, CA...       01/27/2023   \n\n           Time     Status                                   street  \\\n0      12:00 AM   NOTFOUND  1256 8th Street\\n(Front and Back House)   \n1      12:00 AM  CANCELLED                              464 E H St    \n2      12:00 AM     SERVED                         1754 Via Costina   \n3      12:00 AM     SERVED                         1357 Burgundy Dr   \n4      12:00 AM     SERVED                             918 Tenth St   \n...         ...        ...                                      ...   \n14831  12:00 AM  CANCELLED                  145 W El Norte Parkway    \n14832  12:00 AM  CANCELLED          145 W El Norte Parkway Garage\\n   \n14833  12:00 AM     SERVED                       514 N. Vine Street   \n14834  12:00 AM       OPEN                          9986 Via Daroca   \n14835  12:00 AM       OPEN      9986 Via Daroca detached\\ngarageSan   \n\n              unit1         unit2 unit3 unit4 unit5            city state  \\\n0               NaN           NaN   NaN   NaN   NaN  Imperial Beach    CA   \n1               503           503   NaN   NaN   NaN     Chula Vista    CA   \n2               NaN           NaN   NaN   NaN   NaN       San Diego    CA   \n3               NaN           NaN   NaN   NaN   NaN     Chula Vista    CA   \n4                 3             3   NaN   NaN   NaN        Coronado    CA   \n...             ...           ...   ...   ...   ...             ...   ...   \n14831           225           225   NaN   NaN   NaN       Escondido    CA   \n14832  56Escondido,  56Escondido,   NaN   NaN   NaN        CA 92026   NaN   \n14833             1           NaN     1   NaN   NaN       Fallbrook    CA   \n14834           NaN           NaN   NaN   NaN   NaN       San Diego    CA   \n14835           NaN           NaN   NaN   NaN   NaN           Diego    CA   \n\n         zip  \n0      91932  \n1      91910  \n2      92173  \n3      91913  \n4      92118  \n...      ...  \n14831  92026  \n14832    NaN  \n14833  92028  \n14834  92129  \n14835  92129  \n\n[14836 rows x 15 columns]",
      "text/html": "<div>\n<style scoped>\n    .dataframe tbody tr th:only-of-type {\n        vertical-align: middle;\n    }\n\n    .dataframe tbody tr th {\n        vertical-align: top;\n    }\n\n    .dataframe thead th {\n        text-align: right;\n    }\n</style>\n<table border=\"1\" class=\"dataframe\">\n  <thead>\n    <tr style=\"text-align: right;\">\n      <th></th>\n      <th>File_Number</th>\n      <th>Occupants</th>\n      <th>Address</th>\n      <th>Restoration_Date</th>\n      <th>Time</th>\n      <th>Status</th>\n      <th>street</th>\n      <th>unit1</th>\n      <th>unit2</th>\n      <th>unit3</th>\n      <th>unit4</th>\n      <th>unit5</th>\n      <th>city</th>\n      <th>state</th>\n      <th>zip</th>\n    </tr>\n  </thead>\n  <tbody>\n    <tr>\n      <th>0</th>\n      <td>Chula Vista\\n2015250864</td>\n      <td>Alex Luevano,All Unknown\\nOccupants,Carlos\\nLu...</td>\n      <td>1256 8th Street\\n(Front and Back House)\\nImper...</td>\n      <td>04/21/2021</td>\n      <td>12:00 AM</td>\n      <td>NOTFOUND</td>\n      <td>1256 8th Street\\n(Front and Back House)</td>\n      <td>NaN</td>\n      <td>NaN</td>\n      <td>NaN</td>\n      <td>NaN</td>\n      <td>NaN</td>\n      <td>Imperial Beach</td>\n      <td>CA</td>\n      <td>91932</td>\n    </tr>\n    <tr>\n      <th>1</th>\n      <td>2015250883</td>\n      <td>Audra Souza,Anthony A.\\nSouza</td>\n      <td>464 E H St #503\\nChula Vista, CA 91910</td>\n      <td>05/20/2020</td>\n      <td>12:00 AM</td>\n      <td>CANCELLED</td>\n      <td>464 E H St</td>\n      <td>503</td>\n      <td>503</td>\n      <td>NaN</td>\n      <td>NaN</td>\n      <td>NaN</td>\n      <td>Chula Vista</td>\n      <td>CA</td>\n      <td>91910</td>\n    </tr>\n    <tr>\n      <th>2</th>\n      <td>2017253065</td>\n      <td>Maria Varela,Luis Matheu\\nIII</td>\n      <td>1754 Via Costina\\nSan Diego, CA 92173</td>\n      <td>01/04/2018</td>\n      <td>12:00 AM</td>\n      <td>SERVED</td>\n      <td>1754 Via Costina</td>\n      <td>NaN</td>\n      <td>NaN</td>\n      <td>NaN</td>\n      <td>NaN</td>\n      <td>NaN</td>\n      <td>San Diego</td>\n      <td>CA</td>\n      <td>92173</td>\n    </tr>\n    <tr>\n      <th>3</th>\n      <td>2017253067</td>\n      <td>All Unknown\\nOccupants,Charvella West</td>\n      <td>1357 Burgundy Dr\\nChula Vista, CA 91913</td>\n      <td>01/04/2018</td>\n      <td>12:00 AM</td>\n      <td>SERVED</td>\n      <td>1357 Burgundy Dr</td>\n      <td>NaN</td>\n      <td>NaN</td>\n      <td>NaN</td>\n      <td>NaN</td>\n      <td>NaN</td>\n      <td>Chula Vista</td>\n      <td>CA</td>\n      <td>91913</td>\n    </tr>\n    <tr>\n      <th>4</th>\n      <td>2017253088</td>\n      <td>Hildelisa Ochoa,All\\nUnknown Occupants</td>\n      <td>918 Tenth St, #3\\nCoronado, CA 92118</td>\n      <td>01/03/2018</td>\n      <td>12:00 AM</td>\n      <td>SERVED</td>\n      <td>918 Tenth St</td>\n      <td>3</td>\n      <td>3</td>\n      <td>NaN</td>\n      <td>NaN</td>\n      <td>NaN</td>\n      <td>Coronado</td>\n      <td>CA</td>\n      <td>92118</td>\n    </tr>\n    <tr>\n      <th>...</th>\n      <td>...</td>\n      <td>...</td>\n      <td>...</td>\n      <td>...</td>\n      <td>...</td>\n      <td>...</td>\n      <td>...</td>\n      <td>...</td>\n      <td>...</td>\n      <td>...</td>\n      <td>...</td>\n      <td>...</td>\n      <td>...</td>\n      <td>...</td>\n      <td>...</td>\n    </tr>\n    <tr>\n      <th>14831</th>\n      <td>2023450129</td>\n      <td>All Unknown\\nOccupants,John M. Caro</td>\n      <td>145 W El Norte Parkway #225\\nEscondido, CA 92026</td>\n      <td>01/27/2023</td>\n      <td>12:00 AM</td>\n      <td>CANCELLED</td>\n      <td>145 W El Norte Parkway</td>\n      <td>225</td>\n      <td>225</td>\n      <td>NaN</td>\n      <td>NaN</td>\n      <td>NaN</td>\n      <td>Escondido</td>\n      <td>CA</td>\n      <td>92026</td>\n    </tr>\n    <tr>\n      <th>14832</th>\n      <td>2023450129</td>\n      <td>All Unknown\\nOccupants,John M. Caro</td>\n      <td>145 W El Norte Parkway Garage\\n#56Escondido,\\n...</td>\n      <td>01/27/2023</td>\n      <td>12:00 AM</td>\n      <td>CANCELLED</td>\n      <td>145 W El Norte Parkway Garage\\n</td>\n      <td>56Escondido,</td>\n      <td>56Escondido,</td>\n      <td>NaN</td>\n      <td>NaN</td>\n      <td>NaN</td>\n      <td>CA 92026</td>\n      <td>NaN</td>\n      <td>NaN</td>\n    </tr>\n    <tr>\n      <th>14833</th>\n      <td>2023450131</td>\n      <td>Jose Agular,Johanna\\nFuentes,All Unknown\\nOccu...</td>\n      <td>514 N. Vine Street, Unit 1\\nFallbrook, CA 92028</td>\n      <td>01/30/2023</td>\n      <td>12:00 AM</td>\n      <td>SERVED</td>\n      <td>514 N. Vine Street</td>\n      <td>1</td>\n      <td>NaN</td>\n      <td>1</td>\n      <td>NaN</td>\n      <td>NaN</td>\n      <td>Fallbrook</td>\n      <td>CA</td>\n      <td>92028</td>\n    </tr>\n    <tr>\n      <th>14834</th>\n      <td>2023450132</td>\n      <td>Kelly A. Celella,Eugene\\nCatibog,Craig Nicholas</td>\n      <td>9986 Via Daroca\\nSan Diego, CA 92129</td>\n      <td>01/27/2023</td>\n      <td>12:00 AM</td>\n      <td>OPEN</td>\n      <td>9986 Via Daroca</td>\n      <td>NaN</td>\n      <td>NaN</td>\n      <td>NaN</td>\n      <td>NaN</td>\n      <td>NaN</td>\n      <td>San Diego</td>\n      <td>CA</td>\n      <td>92129</td>\n    </tr>\n    <tr>\n      <th>14835</th>\n      <td>2023450132</td>\n      <td>Kelly A. Celella,Eugene\\nCatibog,Craig Nicholas</td>\n      <td>9986 Via Daroca detached\\ngarageSan\\nDiego, CA...</td>\n      <td>01/27/2023</td>\n      <td>12:00 AM</td>\n      <td>OPEN</td>\n      <td>9986 Via Daroca detached\\ngarageSan</td>\n      <td>NaN</td>\n      <td>NaN</td>\n      <td>NaN</td>\n      <td>NaN</td>\n      <td>NaN</td>\n      <td>Diego</td>\n      <td>CA</td>\n      <td>92129</td>\n    </tr>\n  </tbody>\n</table>\n<p>14836 rows × 15 columns</p>\n</div>"
     },
     "execution_count": 189,
     "metadata": {},
     "output_type": "execute_result"
    }
   ],
   "source": [
    "library_df"
   ],
   "metadata": {
    "collapsed": false,
    "pycharm": {
     "name": "#%%\n"
    }
   }
  },
  {
   "cell_type": "code",
   "execution_count": 190,
   "outputs": [
    {
     "data": {
      "text/plain": "      File_Number                                           Raw_Rows  \\\n0      2015250864  Alex Luevano,All Unknown Occupants,Carlos Luev...   \n1      2015250883  Audra Souza, Anthony A . Souza464 E H St #503C...   \n2      2017253065  Maria Varela ,Luis Matheu III1754 Via CostinaS...   \n3      2017253067  All Unknown Occupants, Charvella West1357 Burg...   \n4      2017253088  Hildelisa Ochoa,All Unknown Occupants918 Tenth...   \n...           ...                                                ...   \n13626  2023450129  All Unknown Occupants,John M. Caro145 W El Nor...   \n13627  2023450129  All Unknown Occupants,John M. Caro145 W El Nor...   \n13628  2023450131  Jose Agular ,Johanna Fuentes,All Unknown Occup...   \n13629  2023450132  Kelly A . Celella,Eugene Catibog,Craig Nichola...   \n13630  2023450132  Kelly A . Celella,Eugene Catibog,Craig Nichola...   \n\n          Restoration_Date     Status  \n0      04/21/2021 12:00 AM   NOTFOUND  \n1      05/20/2020 12:00 AM  CANCELLED  \n2      01/04/2018 12:00 AM     SERVED  \n3      01/04/2018 12:00 AM     SERVED  \n4      01/03/2018 12:00 AM     SERVED  \n...                    ...        ...  \n13626  01/27/2023 12:00 AM  CANCELLED  \n13627  01/27/2023 12:00 AM  CANCELLED  \n13628  01/30/2023 12:00 AM     SERVED  \n13629  01/27/2023 12:00 AM       OPEN  \n13630  01/27/2023 12:00 AM       OPEN  \n\n[13631 rows x 4 columns]",
      "text/html": "<div>\n<style scoped>\n    .dataframe tbody tr th:only-of-type {\n        vertical-align: middle;\n    }\n\n    .dataframe tbody tr th {\n        vertical-align: top;\n    }\n\n    .dataframe thead th {\n        text-align: right;\n    }\n</style>\n<table border=\"1\" class=\"dataframe\">\n  <thead>\n    <tr style=\"text-align: right;\">\n      <th></th>\n      <th>File_Number</th>\n      <th>Raw_Rows</th>\n      <th>Restoration_Date</th>\n      <th>Status</th>\n    </tr>\n  </thead>\n  <tbody>\n    <tr>\n      <th>0</th>\n      <td>2015250864</td>\n      <td>Alex Luevano,All Unknown Occupants,Carlos Luev...</td>\n      <td>04/21/2021 12:00 AM</td>\n      <td>NOTFOUND</td>\n    </tr>\n    <tr>\n      <th>1</th>\n      <td>2015250883</td>\n      <td>Audra Souza, Anthony A . Souza464 E H St #503C...</td>\n      <td>05/20/2020 12:00 AM</td>\n      <td>CANCELLED</td>\n    </tr>\n    <tr>\n      <th>2</th>\n      <td>2017253065</td>\n      <td>Maria Varela ,Luis Matheu III1754 Via CostinaS...</td>\n      <td>01/04/2018 12:00 AM</td>\n      <td>SERVED</td>\n    </tr>\n    <tr>\n      <th>3</th>\n      <td>2017253067</td>\n      <td>All Unknown Occupants, Charvella West1357 Burg...</td>\n      <td>01/04/2018 12:00 AM</td>\n      <td>SERVED</td>\n    </tr>\n    <tr>\n      <th>4</th>\n      <td>2017253088</td>\n      <td>Hildelisa Ochoa,All Unknown Occupants918 Tenth...</td>\n      <td>01/03/2018 12:00 AM</td>\n      <td>SERVED</td>\n    </tr>\n    <tr>\n      <th>...</th>\n      <td>...</td>\n      <td>...</td>\n      <td>...</td>\n      <td>...</td>\n    </tr>\n    <tr>\n      <th>13626</th>\n      <td>2023450129</td>\n      <td>All Unknown Occupants,John M. Caro145 W El Nor...</td>\n      <td>01/27/2023 12:00 AM</td>\n      <td>CANCELLED</td>\n    </tr>\n    <tr>\n      <th>13627</th>\n      <td>2023450129</td>\n      <td>All Unknown Occupants,John M. Caro145 W El Nor...</td>\n      <td>01/27/2023 12:00 AM</td>\n      <td>CANCELLED</td>\n    </tr>\n    <tr>\n      <th>13628</th>\n      <td>2023450131</td>\n      <td>Jose Agular ,Johanna Fuentes,All Unknown Occup...</td>\n      <td>01/30/2023 12:00 AM</td>\n      <td>SERVED</td>\n    </tr>\n    <tr>\n      <th>13629</th>\n      <td>2023450132</td>\n      <td>Kelly A . Celella,Eugene Catibog,Craig Nichola...</td>\n      <td>01/27/2023 12:00 AM</td>\n      <td>OPEN</td>\n    </tr>\n    <tr>\n      <th>13630</th>\n      <td>2023450132</td>\n      <td>Kelly A . Celella,Eugene Catibog,Craig Nichola...</td>\n      <td>01/27/2023 12:00 AM</td>\n      <td>OPEN</td>\n    </tr>\n  </tbody>\n</table>\n<p>13631 rows × 4 columns</p>\n</div>"
     },
     "execution_count": 190,
     "metadata": {},
     "output_type": "execute_result"
    }
   ],
   "source": [
    "current_df"
   ],
   "metadata": {
    "collapsed": false,
    "pycharm": {
     "name": "#%%\n"
    }
   }
  }
 ],
 "metadata": {
  "kernelspec": {
   "display_name": "Python 3",
   "language": "python",
   "name": "python3"
  },
  "language_info": {
   "codemirror_mode": {
    "name": "ipython",
    "version": 2
   },
   "file_extension": ".py",
   "mimetype": "text/x-python",
   "name": "python",
   "nbconvert_exporter": "python",
   "pygments_lexer": "ipython2",
   "version": "2.7.6"
  }
 },
 "nbformat": 4,
 "nbformat_minor": 0
}